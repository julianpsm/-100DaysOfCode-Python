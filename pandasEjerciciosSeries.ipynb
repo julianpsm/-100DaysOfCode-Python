{
  "nbformat": 4,
  "nbformat_minor": 0,
  "metadata": {
    "colab": {
      "provenance": []
    },
    "kernelspec": {
      "name": "python3",
      "display_name": "Python 3"
    },
    "language_info": {
      "name": "python"
    }
  },
  "cells": [
    {
      "cell_type": "code",
      "execution_count": 2,
      "metadata": {
        "id": "ZyZ273xU_1_H"
      },
      "outputs": [],
      "source": [
        "import pandas as pd\n",
        "import numpy as np"
      ]
    },
    {
      "cell_type": "markdown",
      "source": [
        "Escribe una funcion a la que le podamos pasar un diccionario con notas de alumnos y nos devuelva la nota minima, la maxima y la media."
      ],
      "metadata": {
        "id": "R4Af36SWAJDf"
      }
    },
    {
      "cell_type": "code",
      "source": [
        "def dame_estadisticas(notas):\n",
        "  notas = pd.Series(notas)\n",
        "  estadisticas = pd.Series([notas.min(),notas.max(),notas.mean()],index=['Minima','Maxima','Media']) #podemos usar tambien notas.describe()\n",
        "  return estadisticas\n"
      ],
      "metadata": {
        "id": "gxL8R7xc_9bS"
      },
      "execution_count": 3,
      "outputs": []
    },
    {
      "cell_type": "markdown",
      "source": [],
      "metadata": {
        "id": "oL-wvA_G9zGF"
      }
    },
    {
      "cell_type": "code",
      "source": [
        "notas ={'Jose':6,'M Mar':7,'Lucia':9,'Eva':9, 'Rodrigo': 5, 'Juanito': 3.5, 'Ana':7.8}\n",
        "\n",
        "dame_estadisticas(notas)"
      ],
      "metadata": {
        "colab": {
          "base_uri": "https://localhost:8080/",
          "height": 178
        },
        "id": "xjETj5LfYupn",
        "outputId": "aae197d1-73f8-4eb6-e809-6bf74d223b59"
      },
      "execution_count": 6,
      "outputs": [
        {
          "output_type": "execute_result",
          "data": {
            "text/plain": [
              "Minima    3.500000\n",
              "Maxima    9.000000\n",
              "Media     6.757143\n",
              "dtype: float64"
            ],
            "text/html": [
              "<div>\n",
              "<style scoped>\n",
              "    .dataframe tbody tr th:only-of-type {\n",
              "        vertical-align: middle;\n",
              "    }\n",
              "\n",
              "    .dataframe tbody tr th {\n",
              "        vertical-align: top;\n",
              "    }\n",
              "\n",
              "    .dataframe thead th {\n",
              "        text-align: right;\n",
              "    }\n",
              "</style>\n",
              "<table border=\"1\" class=\"dataframe\">\n",
              "  <thead>\n",
              "    <tr style=\"text-align: right;\">\n",
              "      <th></th>\n",
              "      <th>0</th>\n",
              "    </tr>\n",
              "  </thead>\n",
              "  <tbody>\n",
              "    <tr>\n",
              "      <th>Minima</th>\n",
              "      <td>3.500000</td>\n",
              "    </tr>\n",
              "    <tr>\n",
              "      <th>Maxima</th>\n",
              "      <td>9.000000</td>\n",
              "    </tr>\n",
              "    <tr>\n",
              "      <th>Media</th>\n",
              "      <td>6.757143</td>\n",
              "    </tr>\n",
              "  </tbody>\n",
              "</table>\n",
              "</div><br><label><b>dtype:</b> float64</label>"
            ]
          },
          "metadata": {},
          "execution_count": 6
        }
      ]
    },
    {
      "cell_type": "code",
      "source": [
        "#se puede usar notas.describe()\n",
        "notas ={'Jose':6,'M Mar':7,'Lucia':9,'Eva':9, 'Rodrigo': 5, 'Juanito': 3.5, 'Ana':7.8}\n",
        "notas = pd.Series(notas)\n",
        "notas.describe()"
      ],
      "metadata": {
        "id": "aJEBjq4x9jMF",
        "outputId": "8829f1d5-7faa-4cd9-d16c-d169fc1c5a03",
        "colab": {
          "base_uri": "https://localhost:8080/",
          "height": 158
        }
      },
      "execution_count": 7,
      "outputs": [
        {
          "output_type": "error",
          "ename": "AttributeError",
          "evalue": "'dict' object has no attribute 'describe'",
          "traceback": [
            "\u001b[0;31m---------------------------------------------------------------------------\u001b[0m",
            "\u001b[0;31mAttributeError\u001b[0m                            Traceback (most recent call last)",
            "\u001b[0;32m<ipython-input-7-49fc46324cca>\u001b[0m in \u001b[0;36m<cell line: 0>\u001b[0;34m()\u001b[0m\n\u001b[1;32m      1\u001b[0m \u001b[0;31m#se puede usar notas.describe()\u001b[0m\u001b[0;34m\u001b[0m\u001b[0;34m\u001b[0m\u001b[0m\n\u001b[0;32m----> 2\u001b[0;31m \u001b[0mnotas\u001b[0m\u001b[0;34m.\u001b[0m\u001b[0mdescribe\u001b[0m\u001b[0;34m(\u001b[0m\u001b[0;34m)\u001b[0m\u001b[0;34m\u001b[0m\u001b[0;34m\u001b[0m\u001b[0m\n\u001b[0m",
            "\u001b[0;31mAttributeError\u001b[0m: 'dict' object has no attribute 'describe'"
          ]
        }
      ]
    },
    {
      "cell_type": "markdown",
      "source": [
        "Crea una serie a partir de una matriz con indices\n"
      ],
      "metadata": {
        "id": "VvUwIClSAm9V"
      }
    },
    {
      "cell_type": "code",
      "source": [
        "#Uso un array de numpy\n",
        "datos = np.array(['Seat','Audi','Fiat','Renault'])\n",
        "indices=[1,2,3,4]\n",
        "serie=pd.Series(datos,index=indices)\n",
        "serie"
      ],
      "metadata": {
        "id": "Lf80YYwZADEC",
        "colab": {
          "base_uri": "https://localhost:8080/"
        },
        "outputId": "780d282b-bfdf-4aee-a68f-91ffda621b89"
      },
      "execution_count": null,
      "outputs": [
        {
          "output_type": "execute_result",
          "data": {
            "text/plain": [
              "1       Seat\n",
              "2       Audi\n",
              "3       Fiat\n",
              "4    Renault\n",
              "dtype: object"
            ]
          },
          "metadata": {},
          "execution_count": 6
        }
      ]
    },
    {
      "cell_type": "markdown",
      "source": [
        "Crea una serie a partir de un diccionario"
      ],
      "metadata": {
        "id": "crWOWAlZBNWV"
      }
    },
    {
      "cell_type": "code",
      "source": [
        "diccionario = {'rojo':3,'verde':5,'azul':4,'amarillo':10}\n",
        "serie=pd.Series(diccionario)\n",
        "serie"
      ],
      "metadata": {
        "id": "oqo_S22zA8lC",
        "colab": {
          "base_uri": "https://localhost:8080/"
        },
        "outputId": "df5c2264-7815-4db4-f4a0-e069a5410e53"
      },
      "execution_count": null,
      "outputs": [
        {
          "output_type": "execute_result",
          "data": {
            "text/plain": [
              "rojo         3\n",
              "verde        5\n",
              "azul         4\n",
              "amarillo    10\n",
              "dtype: int64"
            ]
          },
          "metadata": {},
          "execution_count": 7
        }
      ]
    },
    {
      "cell_type": "markdown",
      "source": [
        "Crea una serie a partir de una lista\n",
        "\n",
        "\n",
        "\n"
      ],
      "metadata": {
        "id": "qzyfiMi2BcTE"
      }
    },
    {
      "cell_type": "code",
      "source": [
        "lista = [1,2,4,6,2,3,9]\n",
        "serie = pd.Series(lista,index=['a','b','c','d','e','f','g'])\n",
        "serie\n"
      ],
      "metadata": {
        "id": "JX6wj4GBBvTB",
        "colab": {
          "base_uri": "https://localhost:8080/"
        },
        "outputId": "8e75e6ff-a897-4e6d-ed79-6c7ac474c402"
      },
      "execution_count": null,
      "outputs": [
        {
          "output_type": "execute_result",
          "data": {
            "text/plain": [
              "a    1\n",
              "b    2\n",
              "c    4\n",
              "d    6\n",
              "e    2\n",
              "f    3\n",
              "g    9\n",
              "dtype: int64"
            ]
          },
          "metadata": {},
          "execution_count": 8
        }
      ]
    },
    {
      "cell_type": "markdown",
      "source": [
        "Busca informacion en la web para crear una serie usando la funcion linspace de numpy"
      ],
      "metadata": {
        "id": "sSVTJyodCBRd"
      }
    },
    {
      "cell_type": "code",
      "source": [
        "serie = pd.Series(np.linspace(25,55,8)) #del 2 al 14 con 6 valores\n",
        "serie"
      ],
      "metadata": {
        "id": "pgNBJO9NBx73",
        "colab": {
          "base_uri": "https://localhost:8080/"
        },
        "outputId": "233e4590-9e4f-44b4-cb2a-84e1c82f18de"
      },
      "execution_count": null,
      "outputs": [
        {
          "output_type": "execute_result",
          "data": {
            "text/plain": [
              "0    25.000000\n",
              "1    29.285714\n",
              "2    33.571429\n",
              "3    37.857143\n",
              "4    42.142857\n",
              "5    46.428571\n",
              "6    50.714286\n",
              "7    55.000000\n",
              "dtype: float64"
            ]
          },
          "metadata": {},
          "execution_count": 10
        }
      ]
    },
    {
      "cell_type": "markdown",
      "source": [
        "Crea una serie con numeros al azar entre 0 y 1"
      ],
      "metadata": {
        "id": "_HJnuOGzEPGZ"
      }
    },
    {
      "cell_type": "code",
      "source": [
        "serie = pd.Series(np.random.rand(10))\n",
        "serie"
      ],
      "metadata": {
        "id": "rdt7edsFD_3U",
        "colab": {
          "base_uri": "https://localhost:8080/"
        },
        "outputId": "91f73a5c-a4b0-4bb1-ef13-255e55b6a183"
      },
      "execution_count": null,
      "outputs": [
        {
          "output_type": "execute_result",
          "data": {
            "text/plain": [
              "0    0.147950\n",
              "1    0.411311\n",
              "2    0.346889\n",
              "3    0.483497\n",
              "4    0.535848\n",
              "5    0.127411\n",
              "6    0.832416\n",
              "7    0.403757\n",
              "8    0.993305\n",
              "9    0.008358\n",
              "dtype: float64"
            ]
          },
          "metadata": {},
          "execution_count": 12
        }
      ]
    },
    {
      "cell_type": "markdown",
      "source": [
        "Muestra los elementos de posiciones 1, 3 y 5 de la serie anterior"
      ],
      "metadata": {
        "id": "jr3_I45GFBjR"
      }
    },
    {
      "cell_type": "code",
      "source": [
        "serie[[1,3,5]]"
      ],
      "metadata": {
        "id": "VjQUcYKEE_M6",
        "colab": {
          "base_uri": "https://localhost:8080/"
        },
        "outputId": "0ef1cb41-5ce7-4dc8-a220-506f75643f98"
      },
      "execution_count": null,
      "outputs": [
        {
          "output_type": "execute_result",
          "data": {
            "text/plain": [
              "1    0.411311\n",
              "3    0.483497\n",
              "5    0.127411\n",
              "dtype: float64"
            ]
          },
          "metadata": {},
          "execution_count": 13
        }
      ]
    },
    {
      "cell_type": "markdown",
      "source": [
        "Muestra los 2 primeros elementos de la serie anterior"
      ],
      "metadata": {
        "id": "dpMs-3iFGFYi"
      }
    },
    {
      "cell_type": "code",
      "source": [
        "serie.head(2)"
      ],
      "metadata": {
        "id": "Hr9-D--vFF7q",
        "colab": {
          "base_uri": "https://localhost:8080/"
        },
        "outputId": "b94851ca-1ed7-4e7a-eb89-153acb21b46c"
      },
      "execution_count": null,
      "outputs": [
        {
          "output_type": "execute_result",
          "data": {
            "text/plain": [
              "0    0.147950\n",
              "1    0.411311\n",
              "dtype: float64"
            ]
          },
          "metadata": {},
          "execution_count": 14
        }
      ]
    },
    {
      "cell_type": "markdown",
      "source": [
        "Muestra los 2 ultimos elementos de la serie anterior"
      ],
      "metadata": {
        "id": "EfErapyBGy6_"
      }
    },
    {
      "cell_type": "code",
      "source": [
        "serie.tail(2)"
      ],
      "metadata": {
        "colab": {
          "base_uri": "https://localhost:8080/"
        },
        "id": "fKDYZG6pbrof",
        "outputId": "01058179-7d42-4317-f719-5a0639532e15"
      },
      "execution_count": null,
      "outputs": [
        {
          "output_type": "execute_result",
          "data": {
            "text/plain": [
              "8    0.993305\n",
              "9    0.008358\n",
              "dtype: float64"
            ]
          },
          "metadata": {},
          "execution_count": 15
        }
      ]
    },
    {
      "cell_type": "code",
      "source": [],
      "metadata": {
        "id": "cz-4SpiMbvFg"
      },
      "execution_count": null,
      "outputs": []
    }
  ]
}